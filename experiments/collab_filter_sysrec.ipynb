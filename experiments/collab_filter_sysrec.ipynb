{
 "cells": [
  {
   "cell_type": "markdown",
   "source": [
    "# **Setup**"
   ],
   "metadata": {
    "collapsed": false,
    "id": "94cde369e7d532b5"
   },
   "id": "94cde369e7d532b5"
  },
  {
   "cell_type": "code",
   "source": [
    "from google.colab import drive\n",
    "drive.mount('/content/drive')"
   ],
   "metadata": {
    "colab": {
     "base_uri": "https://localhost:8080/"
    },
    "id": "TFFO6fI5IedD",
    "outputId": "814f7a10-73eb-463d-d43d-e6aeed13ad48"
   },
   "id": "TFFO6fI5IedD",
   "execution_count": null,
   "outputs": []
  },
  {
   "cell_type": "code",
   "outputs": [],
   "source": [
    "!pip install --quiet cornac==1.15.4 adjustText"
   ],
   "metadata": {
    "colab": {
     "base_uri": "https://localhost:8080/"
    },
    "id": "b03484550a465c49",
    "outputId": "e37232d3-59f2-4248-ad87-d5dd6cfe43d2"
   },
   "id": "b03484550a465c49",
   "execution_count": null
  },
  {
   "cell_type": "code",
   "outputs": [],
   "source": [
    "import os\n",
    "import sys\n",
    "import itertools\n",
    "\n",
    "import scipy.sparse as sp\n",
    "import numpy as np\n",
    "import pandas as pd\n",
    "import seaborn as sns\n",
    "import matplotlib.pyplot as plt\n",
    "from adjustText import adjust_text\n",
    "%matplotlib inline\n",
    "\n",
    "import cornac\n",
    "from cornac.data import Reader\n",
    "#from cornac.utils import cache\n",
    "#from cornac.data import TextModality\n",
    "from cornac.datasets import movielens\n",
    "from cornac.datasets import amazon_clothing\n",
    "from cornac.eval_methods import RatioSplit\n",
    "from cornac.models import MF, NMF, BaselineOnly, CTR, WMF\n",
    "from cornac.data.text import BaseTokenizer\n",
    "\n",
    "print(f\"System version: {sys.version}\")\n",
    "print(f\"Cornac version: {cornac.__version__}\")\n",
    "\n",
    "SEED = 42\n",
    "VERBOSE = True\n",
    "MAX_ITER=20\n",
    "K_DIM=15"
   ],
   "metadata": {
    "colab": {
     "base_uri": "https://localhost:8080/"
    },
    "id": "7b1b07ac9fa0cd7e",
    "outputId": "ebc2834b-3a08-4ef1-9566-5087f8a425f6"
   },
   "id": "7b1b07ac9fa0cd7e",
   "execution_count": null
  },
  {
   "cell_type": "code",
   "outputs": [],
   "source": [
    "#anime_path=\"/content/drive/MyDrive/RecSys/amime/rating_complete.csv\"\n",
    "anime_path=\"/home/kgamegah/Documents/academic/UPC/RecommenderSystems/RecSys/amime/rating_complete.csv\""
   ],
   "metadata": {
    "id": "16b86d6f5d7892bb"
   },
   "id": "16b86d6f5d7892bb",
   "execution_count": null
  },
  {
   "cell_type": "code",
   "outputs": [],
   "source": [
    "data = Reader().read(fpath=anime_path, fmt='UIR', sep=',', skip_lines=1)\n",
    "#data"
   ],
   "metadata": {
    "id": "6eaf9e3e0d01db48"
   },
   "id": "6eaf9e3e0d01db48",
   "execution_count": null
  },
  {
   "cell_type": "code",
   "outputs": [],
   "source": [
    "#from cornac.data import Dataset\n",
    "# Load the data into a dataset object\n",
    "#dataset = Dataset.from_uir(data)"
   ],
   "metadata": {
    "id": "e893c9a5597e5ea0"
   },
   "id": "e893c9a5597e5ea0",
   "execution_count": null
  },
  {
   "cell_type": "markdown",
   "source": [
    "# **NMF**"
   ],
   "metadata": {
    "id": "gEJN8OlqLoeC"
   },
   "id": "gEJN8OlqLoeC"
  },
  {
   "cell_type": "code",
   "source": [
    "# Instantiate an evaluation method.\n",
    "eval_method = RatioSplit(\n",
    "    data=data,\n",
    "    test_size=0.2,\n",
    "    #rating_threshold=4.0,\n",
    "    #exclude_unknowns=True,\n",
    "    verbose=VERBOSE,\n",
    "    seed=SEED,\n",
    ")"
   ],
   "metadata": {
    "id": "EitS8-wLfYfZ",
    "is_executing": true
   },
   "id": "EitS8-wLfYfZ",
   "execution_count": null,
   "outputs": []
  },
  {
   "cell_type": "code",
   "outputs": [],
   "source": [
    "# Instantiate a NMF recommender model.\n",
    "nmf = cornac.models.NMF(\n",
    "    k=K_DIM,\n",
    "    max_iter=MAX_ITER,\n",
    "    learning_rate=0.01,\n",
    "    lambda_reg=0.0,\n",
    "    #lambda_u=0.06,\n",
    "    #lambda_v=0.06,\n",
    "    #lambda_bu=0.02,\n",
    "    #lambda_bi=0.02,\n",
    "    use_bias=False,\n",
    "    verbose=VERBOSE,\n",
    "    seed=SEED,\n",
    "    name=f\"NMF(K={K_DIM})\"\n",
    ")\n",
    "\n",
    "mf = cornac.models.MF(\n",
    "    k=K_DIM,\n",
    "    max_iter=MAX_ITER,\n",
    "    learning_rate=0.01,\n",
    "    lambda_reg=0.0,\n",
    "    use_bias=False,\n",
    "    verbose=VERBOSE,\n",
    "    seed=SEED,\n",
    "    name=f\"MF(K={K_DIM})\")"
   ],
   "metadata": {
    "id": "aa94ab7b1503f9c1"
   },
   "id": "aa94ab7b1503f9c1",
   "execution_count": null
  },
  {
   "cell_type": "code",
   "source": [
    "# Instantiate evaluation metrics.\n",
    "mae = cornac.metrics.MAE()\n",
    "rmse = cornac.metrics.RMSE()\n",
    "rec_20 = cornac.metrics.Recall(k=20)\n",
    "pre_20 = cornac.metrics.Precision(k=20)"
   ],
   "metadata": {
    "id": "4s4AeD_rl63o"
   },
   "id": "4s4AeD_rl63o",
   "execution_count": null,
   "outputs": []
  },
  {
   "cell_type": "code",
   "source": [
    "# Instantiate and then run an experiment.\n",
    "cornac.Experiment(\n",
    "    eval_method=eval_method,\n",
    "    models=[nmf, mf],\n",
    "    metrics=[\n",
    "        mae,\n",
    "        rmse,\n",
    "        rec_20,\n",
    "        pre_20\n",
    "        ]\n",
    ").run()"
   ],
   "metadata": {
    "colab": {
     "base_uri": "https://localhost:8080/",
     "height": 67,
     "referenced_widgets": [
      "92e10d0e007b4b98a94d6c3ddc1e17a0",
      "8e0a4b0c18984b15af528b7c5372b619",
      "522fd4cd003f45e9abda2fce3d2f43a6",
      "fb460aa5aaaf4ca7b0e56dec929eb154",
      "c76ec07143d74b0aa5916ea3e39f3931",
      "1cd75e3a9c5b4c3bbe914eddc2b99684",
      "ec710230a5014be788f94a641b7caeb4",
      "129c048a859c496787a1ca803d07ba98",
      "ce2920ff55aa4e93b8e4f2b1e14cf92d",
      "3e4251285114495e95a104075dbe84c2",
      "8503f51e684548c58f41964704a54acc"
     ]
    },
    "id": "4IQC-ZJ4Oor2",
    "outputId": "4b991ca9-6553-452e-fac2-3db60c4f14bc"
   },
   "id": "4IQC-ZJ4Oor2",
   "execution_count": null,
   "outputs": []
  },
  {
   "cell_type": "code",
   "source": [],
   "metadata": {
    "id": "s5Eh-ApSexkn"
   },
   "id": "s5Eh-ApSexkn",
   "execution_count": null,
   "outputs": []
  }
 ],
 "metadata": {
  "kernelspec": {
   "name": "python3",
   "language": "python",
   "display_name": "Python 3 (ipykernel)"
  },
  "language_info": {
   "codemirror_mode": {
    "name": "ipython",
    "version": 2
   },
   "file_extension": ".py",
   "mimetype": "text/x-python",
   "name": "python",
   "nbconvert_exporter": "python",
   "pygments_lexer": "ipython2",
   "version": "2.7.6"
  },
  "colab": {
   "provenance": [],
   "machine_shape": "hm"
  },
  "widgets": {
   "application/vnd.jupyter.widget-state+json": {
    "92e10d0e007b4b98a94d6c3ddc1e17a0": {
     "model_module": "@jupyter-widgets/controls",
     "model_name": "HBoxModel",
     "model_module_version": "1.5.0",
     "state": {
      "_dom_classes": [],
      "_model_module": "@jupyter-widgets/controls",
      "_model_module_version": "1.5.0",
      "_model_name": "HBoxModel",
      "_view_count": null,
      "_view_module": "@jupyter-widgets/controls",
      "_view_module_version": "1.5.0",
      "_view_name": "HBoxView",
      "box_style": "",
      "children": [
       "IPY_MODEL_8e0a4b0c18984b15af528b7c5372b619",
       "IPY_MODEL_522fd4cd003f45e9abda2fce3d2f43a6",
       "IPY_MODEL_fb460aa5aaaf4ca7b0e56dec929eb154"
      ],
      "layout": "IPY_MODEL_c76ec07143d74b0aa5916ea3e39f3931"
     }
    },
    "8e0a4b0c18984b15af528b7c5372b619": {
     "model_module": "@jupyter-widgets/controls",
     "model_name": "HTMLModel",
     "model_module_version": "1.5.0",
     "state": {
      "_dom_classes": [],
      "_model_module": "@jupyter-widgets/controls",
      "_model_module_version": "1.5.0",
      "_model_name": "HTMLModel",
      "_view_count": null,
      "_view_module": "@jupyter-widgets/controls",
      "_view_module_version": "1.5.0",
      "_view_name": "HTMLView",
      "description": "",
      "description_tooltip": null,
      "layout": "IPY_MODEL_1cd75e3a9c5b4c3bbe914eddc2b99684",
      "placeholder": "​",
      "style": "IPY_MODEL_ec710230a5014be788f94a641b7caeb4",
      "value": "100%"
     }
    },
    "522fd4cd003f45e9abda2fce3d2f43a6": {
     "model_module": "@jupyter-widgets/controls",
     "model_name": "FloatProgressModel",
     "model_module_version": "1.5.0",
     "state": {
      "_dom_classes": [],
      "_model_module": "@jupyter-widgets/controls",
      "_model_module_version": "1.5.0",
      "_model_name": "FloatProgressModel",
      "_view_count": null,
      "_view_module": "@jupyter-widgets/controls",
      "_view_module_version": "1.5.0",
      "_view_name": "ProgressView",
      "bar_style": "success",
      "description": "",
      "description_tooltip": null,
      "layout": "IPY_MODEL_129c048a859c496787a1ca803d07ba98",
      "max": 20,
      "min": 0,
      "orientation": "horizontal",
      "style": "IPY_MODEL_ce2920ff55aa4e93b8e4f2b1e14cf92d",
      "value": 20
     }
    },
    "fb460aa5aaaf4ca7b0e56dec929eb154": {
     "model_module": "@jupyter-widgets/controls",
     "model_name": "HTMLModel",
     "model_module_version": "1.5.0",
     "state": {
      "_dom_classes": [],
      "_model_module": "@jupyter-widgets/controls",
      "_model_module_version": "1.5.0",
      "_model_name": "HTMLModel",
      "_view_count": null,
      "_view_module": "@jupyter-widgets/controls",
      "_view_module_version": "1.5.0",
      "_view_name": "HTMLView",
      "description": "",
      "description_tooltip": null,
      "layout": "IPY_MODEL_3e4251285114495e95a104075dbe84c2",
      "placeholder": "​",
      "style": "IPY_MODEL_8503f51e684548c58f41964704a54acc",
      "value": " 20/20 [01:17&lt;00:00,  3.42s/it, loss=621288320.00]"
     }
    },
    "c76ec07143d74b0aa5916ea3e39f3931": {
     "model_module": "@jupyter-widgets/base",
     "model_name": "LayoutModel",
     "model_module_version": "1.2.0",
     "state": {
      "_model_module": "@jupyter-widgets/base",
      "_model_module_version": "1.2.0",
      "_model_name": "LayoutModel",
      "_view_count": null,
      "_view_module": "@jupyter-widgets/base",
      "_view_module_version": "1.2.0",
      "_view_name": "LayoutView",
      "align_content": null,
      "align_items": null,
      "align_self": null,
      "border": null,
      "bottom": null,
      "display": null,
      "flex": null,
      "flex_flow": null,
      "grid_area": null,
      "grid_auto_columns": null,
      "grid_auto_flow": null,
      "grid_auto_rows": null,
      "grid_column": null,
      "grid_gap": null,
      "grid_row": null,
      "grid_template_areas": null,
      "grid_template_columns": null,
      "grid_template_rows": null,
      "height": null,
      "justify_content": null,
      "justify_items": null,
      "left": null,
      "margin": null,
      "max_height": null,
      "max_width": null,
      "min_height": null,
      "min_width": null,
      "object_fit": null,
      "object_position": null,
      "order": null,
      "overflow": null,
      "overflow_x": null,
      "overflow_y": null,
      "padding": null,
      "right": null,
      "top": null,
      "visibility": null,
      "width": null
     }
    },
    "1cd75e3a9c5b4c3bbe914eddc2b99684": {
     "model_module": "@jupyter-widgets/base",
     "model_name": "LayoutModel",
     "model_module_version": "1.2.0",
     "state": {
      "_model_module": "@jupyter-widgets/base",
      "_model_module_version": "1.2.0",
      "_model_name": "LayoutModel",
      "_view_count": null,
      "_view_module": "@jupyter-widgets/base",
      "_view_module_version": "1.2.0",
      "_view_name": "LayoutView",
      "align_content": null,
      "align_items": null,
      "align_self": null,
      "border": null,
      "bottom": null,
      "display": null,
      "flex": null,
      "flex_flow": null,
      "grid_area": null,
      "grid_auto_columns": null,
      "grid_auto_flow": null,
      "grid_auto_rows": null,
      "grid_column": null,
      "grid_gap": null,
      "grid_row": null,
      "grid_template_areas": null,
      "grid_template_columns": null,
      "grid_template_rows": null,
      "height": null,
      "justify_content": null,
      "justify_items": null,
      "left": null,
      "margin": null,
      "max_height": null,
      "max_width": null,
      "min_height": null,
      "min_width": null,
      "object_fit": null,
      "object_position": null,
      "order": null,
      "overflow": null,
      "overflow_x": null,
      "overflow_y": null,
      "padding": null,
      "right": null,
      "top": null,
      "visibility": null,
      "width": null
     }
    },
    "ec710230a5014be788f94a641b7caeb4": {
     "model_module": "@jupyter-widgets/controls",
     "model_name": "DescriptionStyleModel",
     "model_module_version": "1.5.0",
     "state": {
      "_model_module": "@jupyter-widgets/controls",
      "_model_module_version": "1.5.0",
      "_model_name": "DescriptionStyleModel",
      "_view_count": null,
      "_view_module": "@jupyter-widgets/base",
      "_view_module_version": "1.2.0",
      "_view_name": "StyleView",
      "description_width": ""
     }
    },
    "129c048a859c496787a1ca803d07ba98": {
     "model_module": "@jupyter-widgets/base",
     "model_name": "LayoutModel",
     "model_module_version": "1.2.0",
     "state": {
      "_model_module": "@jupyter-widgets/base",
      "_model_module_version": "1.2.0",
      "_model_name": "LayoutModel",
      "_view_count": null,
      "_view_module": "@jupyter-widgets/base",
      "_view_module_version": "1.2.0",
      "_view_name": "LayoutView",
      "align_content": null,
      "align_items": null,
      "align_self": null,
      "border": null,
      "bottom": null,
      "display": null,
      "flex": null,
      "flex_flow": null,
      "grid_area": null,
      "grid_auto_columns": null,
      "grid_auto_flow": null,
      "grid_auto_rows": null,
      "grid_column": null,
      "grid_gap": null,
      "grid_row": null,
      "grid_template_areas": null,
      "grid_template_columns": null,
      "grid_template_rows": null,
      "height": null,
      "justify_content": null,
      "justify_items": null,
      "left": null,
      "margin": null,
      "max_height": null,
      "max_width": null,
      "min_height": null,
      "min_width": null,
      "object_fit": null,
      "object_position": null,
      "order": null,
      "overflow": null,
      "overflow_x": null,
      "overflow_y": null,
      "padding": null,
      "right": null,
      "top": null,
      "visibility": null,
      "width": null
     }
    },
    "ce2920ff55aa4e93b8e4f2b1e14cf92d": {
     "model_module": "@jupyter-widgets/controls",
     "model_name": "ProgressStyleModel",
     "model_module_version": "1.5.0",
     "state": {
      "_model_module": "@jupyter-widgets/controls",
      "_model_module_version": "1.5.0",
      "_model_name": "ProgressStyleModel",
      "_view_count": null,
      "_view_module": "@jupyter-widgets/base",
      "_view_module_version": "1.2.0",
      "_view_name": "StyleView",
      "bar_color": null,
      "description_width": ""
     }
    },
    "3e4251285114495e95a104075dbe84c2": {
     "model_module": "@jupyter-widgets/base",
     "model_name": "LayoutModel",
     "model_module_version": "1.2.0",
     "state": {
      "_model_module": "@jupyter-widgets/base",
      "_model_module_version": "1.2.0",
      "_model_name": "LayoutModel",
      "_view_count": null,
      "_view_module": "@jupyter-widgets/base",
      "_view_module_version": "1.2.0",
      "_view_name": "LayoutView",
      "align_content": null,
      "align_items": null,
      "align_self": null,
      "border": null,
      "bottom": null,
      "display": null,
      "flex": null,
      "flex_flow": null,
      "grid_area": null,
      "grid_auto_columns": null,
      "grid_auto_flow": null,
      "grid_auto_rows": null,
      "grid_column": null,
      "grid_gap": null,
      "grid_row": null,
      "grid_template_areas": null,
      "grid_template_columns": null,
      "grid_template_rows": null,
      "height": null,
      "justify_content": null,
      "justify_items": null,
      "left": null,
      "margin": null,
      "max_height": null,
      "max_width": null,
      "min_height": null,
      "min_width": null,
      "object_fit": null,
      "object_position": null,
      "order": null,
      "overflow": null,
      "overflow_x": null,
      "overflow_y": null,
      "padding": null,
      "right": null,
      "top": null,
      "visibility": null,
      "width": null
     }
    },
    "8503f51e684548c58f41964704a54acc": {
     "model_module": "@jupyter-widgets/controls",
     "model_name": "DescriptionStyleModel",
     "model_module_version": "1.5.0",
     "state": {
      "_model_module": "@jupyter-widgets/controls",
      "_model_module_version": "1.5.0",
      "_model_name": "DescriptionStyleModel",
      "_view_count": null,
      "_view_module": "@jupyter-widgets/base",
      "_view_module_version": "1.2.0",
      "_view_name": "StyleView",
      "description_width": ""
     }
    }
   }
  }
 },
 "nbformat": 4,
 "nbformat_minor": 5
}
