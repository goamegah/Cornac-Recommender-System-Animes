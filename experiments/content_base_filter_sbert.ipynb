{
 "cells": [
  {
   "cell_type": "markdown",
   "source": [
    "# Content base recommender system with Bert Embedding"
   ],
   "metadata": {
    "collapsed": false
   },
   "id": "e25046f12e0492ca"
  },
  {
   "cell_type": "markdown",
   "source": [
    "## **Set up**"
   ],
   "metadata": {
    "collapsed": false
   },
   "id": "4a185ce1b839b144"
  },
  {
   "cell_type": "code",
   "outputs": [],
   "source": [
    "import numpy as np\n",
    "import pandas as pd"
   ],
   "metadata": {
    "collapsed": false,
    "ExecuteTime": {
     "end_time": "2023-12-30T23:22:05.602385323Z",
     "start_time": "2023-12-30T23:22:05.597580807Z"
    }
   },
   "id": "f8a3915831dbcfe8",
   "execution_count": 1
  },
  {
   "cell_type": "markdown",
   "source": [
    "###  Bert"
   ],
   "metadata": {
    "collapsed": false
   },
   "id": "7ce4f9fba55ea844"
  },
  {
   "cell_type": "code",
   "outputs": [],
   "source": [
    "from transformers import BertTokenizer, BertModel\n",
    "tokenizer = BertTokenizer.from_pretrained('bert-base-uncased')\n",
    "model = BertModel.from_pretrained(\"bert-base-uncased\")\n",
    "text = \"Replace me by any text you'd like.\"\n",
    "encoded_input = tokenizer(text, return_tensors='pt')\n",
    "output = model(**encoded_input)"
   ],
   "metadata": {
    "collapsed": false,
    "ExecuteTime": {
     "end_time": "2023-12-30T23:22:10.002820886Z",
     "start_time": "2023-12-30T23:22:07.596951103Z"
    }
   },
   "id": "67d15a6959f49475",
   "execution_count": 2
  },
  {
   "cell_type": "code",
   "outputs": [
    {
     "data": {
      "text/plain": "BaseModelOutputWithPoolingAndCrossAttentions(last_hidden_state=tensor([[[ 0.1386,  0.1583, -0.2967,  ..., -0.2708, -0.2844,  0.4581],\n         [ 0.5364, -0.2327,  0.1754,  ...,  0.5540,  0.4981, -0.0024],\n         [ 0.3002, -0.3475,  0.1208,  ..., -0.4562,  0.3288,  0.8773],\n         ...,\n         [ 0.3799,  0.1203,  0.8283,  ..., -0.8624, -0.5957,  0.0471],\n         [-0.0252, -0.7177, -0.6950,  ...,  0.0757, -0.6668, -0.3401],\n         [ 0.7535,  0.2391,  0.0717,  ...,  0.2467, -0.6458, -0.3213]]],\n       grad_fn=<NativeLayerNormBackward0>), pooler_output=tensor([[-0.9377, -0.5043, -0.9799,  0.9030,  0.9329, -0.2438,  0.8926,  0.2288,\n         -0.9531, -1.0000, -0.8862,  0.9906,  0.9855,  0.7155,  0.9455, -0.8645,\n         -0.6035, -0.6666,  0.3020, -0.1587,  0.7455,  1.0000, -0.4022,  0.4261,\n          0.6151,  0.9996, -0.8773,  0.9594,  0.9585,  0.6950, -0.6718,  0.3325,\n         -0.9954, -0.2268, -0.9658, -0.9951,  0.6127, -0.7670,  0.0873,  0.0824,\n         -0.9518,  0.4713,  1.0000,  0.3299,  0.7583, -0.2670, -1.0000,  0.3166,\n         -0.9364,  0.9910,  0.9719,  0.9893,  0.2190,  0.6048,  0.5849, -0.4123,\n         -0.0063,  0.1719, -0.3988, -0.6190, -0.6603,  0.5069, -0.9757, -0.9039,\n          0.9926,  0.9323, -0.3687, -0.4869, -0.3143,  0.0499,  0.9129,  0.3396,\n         -0.1879, -0.9235,  0.8675,  0.3228, -0.6406,  1.0000, -0.7989, -0.9931,\n          0.9629,  0.9124,  0.4827, -0.7276,  0.5996, -1.0000,  0.7548, -0.1600,\n         -0.9941,  0.3386,  0.8394, -0.4158,  0.2943,  0.6111, -0.5745, -0.7185,\n         -0.4768, -0.9681, -0.4327, -0.6732,  0.1248, -0.2093, -0.5882, -0.4186,\n          0.5447, -0.6125, -0.6138,  0.4712,  0.4779,  0.7633,  0.3974, -0.4148,\n          0.7063, -0.9680,  0.7389, -0.4270, -0.9948, -0.6019, -0.9950,  0.7459,\n         -0.6343, -0.2753,  0.9522, -0.5724,  0.6218, -0.1295, -0.9905, -1.0000,\n         -0.8710, -0.7506, -0.5008, -0.4827, -0.9872, -0.9847,  0.7214,  0.9694,\n          0.3013,  1.0000, -0.4427,  0.9699, -0.5431, -0.8189,  0.9180, -0.5132,\n          0.9026,  0.5274, -0.5940,  0.2928, -0.6933,  0.7179, -0.9318, -0.2776,\n         -0.9160, -0.9457, -0.3287,  0.9556, -0.7927, -0.9860, -0.1904, -0.2760,\n         -0.6062,  0.9005,  0.9266,  0.4353, -0.6858,  0.4720,  0.2851,  0.7685,\n         -0.8647, -0.5626,  0.5127, -0.5468, -0.9490, -0.9907, -0.5809,  0.7146,\n          0.9948,  0.7981,  0.3463,  0.9349, -0.4238,  0.9333, -0.9754,  0.9936,\n         -0.2597,  0.4665, -0.5400,  0.4947, -0.8723,  0.0034,  0.8378, -0.9134,\n         -0.8432, -0.2516, -0.5177, -0.4687, -0.9491,  0.5691, -0.4856, -0.4857,\n         -0.2245,  0.9609,  0.9823,  0.7496,  0.6256,  0.8552, -0.9073, -0.5802,\n          0.2874,  0.3017,  0.3016,  0.9974, -0.8503, -0.2108, -0.9261, -0.9907,\n         -0.0252, -0.9488, -0.3972, -0.8097,  0.8707, -0.7512,  0.8107,  0.5488,\n         -0.9830, -0.8569,  0.4852, -0.6156,  0.4846, -0.2893,  0.9647,  0.9858,\n         -0.7064,  0.7120,  0.9593, -0.9590, -0.8708,  0.7893, -0.3561,  0.8603,\n         -0.7243,  0.9882,  0.9876,  0.9282, -0.9547, -0.8329, -0.7993, -0.8398,\n         -0.2333,  0.2315,  0.9712,  0.6055,  0.6388,  0.2429, -0.7884,  0.9981,\n         -0.9448, -0.9804, -0.8184, -0.3534, -0.9951,  0.9729,  0.4165,  0.8094,\n         -0.6227, -0.8183, -0.9817,  0.8532,  0.1242,  0.9826, -0.6376, -0.9450,\n         -0.8094, -0.9748,  0.0412, -0.3097, -0.8153, -0.0306, -0.9255,  0.5677,\n          0.6217,  0.6652, -0.9682,  0.9997,  1.0000,  0.9826,  0.9013,  0.8950,\n         -1.0000, -0.8081,  1.0000, -0.9995, -1.0000, -0.9361, -0.8200,  0.4755,\n         -1.0000, -0.2698, -0.0111, -0.9297,  0.8492,  0.9879,  0.9950, -1.0000,\n          0.8653,  0.9513, -0.5679,  0.9966, -0.6713,  0.9815,  0.6008,  0.7414,\n         -0.3265,  0.5574, -0.9801, -0.8956, -0.8082, -0.9267,  0.9999,  0.2542,\n         -0.7970, -0.8854,  0.7831, -0.1391, -0.0060, -0.9786, -0.4503,  0.8895,\n          0.9021,  0.3021,  0.2650, -0.5750,  0.5099,  0.1216,  0.1170,  0.6484,\n         -0.9505, -0.3889, -0.6938,  0.2508, -0.7526, -0.9831,  0.9646, -0.2742,\n          0.9865,  1.0000,  0.3756, -0.9045,  0.8847,  0.4860, -0.5515,  1.0000,\n          0.9092, -0.9904, -0.4959,  0.7900, -0.7156, -0.8280,  0.9999, -0.4197,\n         -0.9282, -0.7733,  0.9945, -0.9956,  0.9998, -0.8985, -0.9838,  0.9735,\n          0.9655, -0.8103, -0.8325,  0.1020, -0.6722,  0.4561, -0.9412,  0.8396,\n          0.6979, -0.1201,  0.9288, -0.8345, -0.6312,  0.4356, -0.8901, -0.4565,\n          0.9874,  0.5709, -0.2111, -0.0206, -0.4182, -0.9116, -0.9781,  0.8246,\n          1.0000, -0.4229,  0.9489, -0.5226, -0.0986,  0.2202,  0.7459,  0.7152,\n         -0.3528, -0.8800,  0.9299, -0.9716, -0.9949,  0.7278,  0.2206, -0.4944,\n          1.0000,  0.6285,  0.3795,  0.7228,  0.9993,  0.0301,  0.5936,  0.9816,\n          0.9914, -0.3465,  0.5882,  0.8365, -0.9824, -0.4488, -0.7612,  0.1331,\n         -0.9479, -0.0559, -0.9697,  0.9846,  0.9960,  0.5818,  0.3121,  0.8577,\n          1.0000, -0.9274,  0.6693, -0.1365,  0.8035, -1.0000, -0.8057, -0.4504,\n         -0.1711, -0.9512, -0.5899,  0.3991, -0.9754,  0.9563,  0.8806, -0.9937,\n         -0.9923, -0.4979,  0.8853,  0.1439, -0.9994, -0.8986, -0.6272,  0.8385,\n         -0.3239, -0.9470, -0.7009, -0.4768,  0.5742, -0.2216,  0.5665,  0.9667,\n          0.7935, -0.9401, -0.6746, -0.1753, -0.9163,  0.9409, -0.8701, -0.9894,\n         -0.2514,  1.0000, -0.4087,  0.9385,  0.6050,  0.8219, -0.2712,  0.3326,\n          0.9827,  0.3613, -0.8314, -0.9850, -0.2861, -0.5398,  0.8254,  0.8414,\n          0.7590,  0.9412,  0.9627,  0.2765, -0.0737,  0.0399,  0.9998, -0.3095,\n         -0.1933, -0.4689, -0.2511, -0.4629, -0.2914,  1.0000,  0.3963,  0.7777,\n         -0.9950, -0.9808, -0.9303,  1.0000,  0.8822, -0.6848,  0.8124,  0.6242,\n         -0.2551,  0.8266, -0.2791, -0.3167,  0.2294,  0.1682,  0.9627, -0.6738,\n         -0.9904, -0.7910,  0.7099, -0.9770,  1.0000, -0.7030, -0.3960, -0.5981,\n         -0.6683, -0.2727, -0.0183, -0.9882, -0.3841,  0.5605,  0.9745,  0.3505,\n         -0.4898, -0.9298,  0.9578,  0.9533, -0.9859, -0.9597,  0.9777, -0.9784,\n          0.7550,  1.0000,  0.3446,  0.6786,  0.3947, -0.5349,  0.5541, -0.6754,\n          0.8078, -0.9595, -0.4484, -0.3901,  0.3983, -0.1319, -0.2896,  0.7860,\n          0.3500, -0.5530, -0.7294, -0.2361,  0.4663,  0.9332, -0.3048, -0.1916,\n          0.2318, -0.3230, -0.9323, -0.4672, -0.6315, -1.0000,  0.8068, -1.0000,\n          0.8035,  0.4066, -0.3700,  0.8760,  0.7829,  0.8298, -0.8628, -0.9795,\n          0.1322,  0.8529, -0.5029, -0.9057, -0.6918,  0.5017, -0.2052,  0.1564,\n         -0.7397,  0.8156, -0.3414,  1.0000,  0.2659, -0.8292, -0.9821,  0.2491,\n         -0.3009,  1.0000, -0.8952, -0.9832,  0.3330, -0.9180, -0.8493,  0.5868,\n          0.1653, -0.8522, -0.9961,  0.9220,  0.8661, -0.6477,  0.7927, -0.3991,\n         -0.7691,  0.1512,  0.9868,  0.9924,  0.7317,  0.9083, -0.1226, -0.5258,\n          0.9840,  0.4009, -0.0436,  0.1361,  1.0000,  0.4004, -0.9497, -0.1309,\n         -0.9788, -0.3522, -0.9551,  0.3755,  0.3099,  0.9195, -0.4460,  0.9738,\n         -0.9714,  0.1901, -0.8894, -0.7863,  0.4757, -0.9463, -0.9892, -0.9938,\n          0.8142, -0.4077, -0.1895,  0.2102,  0.1715,  0.6322,  0.5566, -1.0000,\n          0.9642,  0.6150,  0.9768,  0.9768,  0.9115,  0.8108,  0.3251, -0.9920,\n         -0.9910, -0.5438, -0.3567,  0.7960,  0.7648,  0.8900,  0.6470, -0.4875,\n         -0.4792, -0.7756, -0.8423, -0.9972,  0.5961, -0.8679, -0.9678,  0.9718,\n         -0.3461, -0.1534, -0.2139, -0.9586,  0.9321,  0.7627,  0.4636,  0.0862,\n          0.5071,  0.9170,  0.9597,  0.9882, -0.9231,  0.8555, -0.9196,  0.6712,\n          0.9381, -0.9606,  0.2335,  0.8301, -0.5560,  0.3696, -0.4752, -0.9740,\n          0.8174, -0.4268,  0.7773, -0.4798,  0.0639, -0.4718, -0.2607, -0.7624,\n         -0.8742,  0.6576,  0.6207,  0.9219,  0.9360, -0.0496, -0.8942, -0.3701,\n         -0.8944, -0.9526,  0.9536, -0.0851, -0.2961,  0.9031,  0.1321,  0.9324,\n          0.4289, -0.4989, -0.4174, -0.7639,  0.8887, -0.7894, -0.7639, -0.7093,\n          0.8105,  0.3595,  1.0000, -0.9188, -0.9878, -0.8268, -0.6012,  0.4992,\n         -0.7880, -1.0000,  0.3609, -0.8314,  0.8524, -0.9398,  0.9500, -0.9339,\n         -0.9851, -0.3495,  0.8436,  0.9375, -0.5159, -0.8989,  0.5196, -0.8797,\n          0.9979,  0.8753, -0.8277, -0.0012,  0.6013, -0.9184, -0.7398,  0.9228]],\n       grad_fn=<TanhBackward0>), hidden_states=None, past_key_values=None, attentions=None, cross_attentions=None)"
     },
     "execution_count": 3,
     "metadata": {},
     "output_type": "execute_result"
    }
   ],
   "source": [
    "output"
   ],
   "metadata": {
    "collapsed": false,
    "ExecuteTime": {
     "end_time": "2023-12-30T23:22:10.019927016Z",
     "start_time": "2023-12-30T23:22:10.012752892Z"
    }
   },
   "id": "f2c27883037a1a5c",
   "execution_count": 3
  },
  {
   "cell_type": "markdown",
   "source": [
    "### Sentence embedding "
   ],
   "metadata": {
    "collapsed": false
   },
   "id": "66550b89bd23db6e"
  },
  {
   "cell_type": "code",
   "outputs": [
    {
     "data": {
      "text/plain": "17562"
     },
     "execution_count": 4,
     "metadata": {},
     "output_type": "execute_result"
    }
   ],
   "source": [
    "data = pd.read_csv('/home/kgamegah/Documents/academic/UPC/RecommenderSystems/RecSys/amime/anime.csv')\n",
    "data = data[['MAL_ID','Name', 'Genres', 'Type', 'Episodes']]\n",
    "data.columns = ['ID','Title', 'Genre', 'Type', 'Episodes']\n",
    "len(data)"
   ],
   "metadata": {
    "collapsed": false,
    "ExecuteTime": {
     "end_time": "2023-12-30T23:22:10.452832880Z",
     "start_time": "2023-12-30T23:22:10.297669083Z"
    }
   },
   "id": "1662865991d6f876",
   "execution_count": 4
  },
  {
   "cell_type": "code",
   "outputs": [
    {
     "data": {
      "text/plain": "   ID                            Title  \\\n0   1                     Cowboy Bebop   \n1   5  Cowboy Bebop: Tengoku no Tobira   \n2   6                           Trigun   \n3   7               Witch Hunter Robin   \n4   8                   Bouken Ou Beet   \n\n                                               Genre   Type Episodes  \n0    Action, Adventure, Comedy, Drama, Sci-Fi, Space     TV       26  \n1              Action, Drama, Mystery, Sci-Fi, Space  Movie        1  \n2  Action, Sci-Fi, Adventure, Comedy, Drama, Shounen     TV       26  \n3  Action, Mystery, Police, Supernatural, Drama, ...     TV       26  \n4          Adventure, Fantasy, Shounen, Supernatural     TV       52  ",
      "text/html": "<div>\n<style scoped>\n    .dataframe tbody tr th:only-of-type {\n        vertical-align: middle;\n    }\n\n    .dataframe tbody tr th {\n        vertical-align: top;\n    }\n\n    .dataframe thead th {\n        text-align: right;\n    }\n</style>\n<table border=\"1\" class=\"dataframe\">\n  <thead>\n    <tr style=\"text-align: right;\">\n      <th></th>\n      <th>ID</th>\n      <th>Title</th>\n      <th>Genre</th>\n      <th>Type</th>\n      <th>Episodes</th>\n    </tr>\n  </thead>\n  <tbody>\n    <tr>\n      <th>0</th>\n      <td>1</td>\n      <td>Cowboy Bebop</td>\n      <td>Action, Adventure, Comedy, Drama, Sci-Fi, Space</td>\n      <td>TV</td>\n      <td>26</td>\n    </tr>\n    <tr>\n      <th>1</th>\n      <td>5</td>\n      <td>Cowboy Bebop: Tengoku no Tobira</td>\n      <td>Action, Drama, Mystery, Sci-Fi, Space</td>\n      <td>Movie</td>\n      <td>1</td>\n    </tr>\n    <tr>\n      <th>2</th>\n      <td>6</td>\n      <td>Trigun</td>\n      <td>Action, Sci-Fi, Adventure, Comedy, Drama, Shounen</td>\n      <td>TV</td>\n      <td>26</td>\n    </tr>\n    <tr>\n      <th>3</th>\n      <td>7</td>\n      <td>Witch Hunter Robin</td>\n      <td>Action, Mystery, Police, Supernatural, Drama, ...</td>\n      <td>TV</td>\n      <td>26</td>\n    </tr>\n    <tr>\n      <th>4</th>\n      <td>8</td>\n      <td>Bouken Ou Beet</td>\n      <td>Adventure, Fantasy, Shounen, Supernatural</td>\n      <td>TV</td>\n      <td>52</td>\n    </tr>\n  </tbody>\n</table>\n</div>"
     },
     "execution_count": 5,
     "metadata": {},
     "output_type": "execute_result"
    }
   ],
   "source": [
    "data.head()"
   ],
   "metadata": {
    "collapsed": false,
    "ExecuteTime": {
     "end_time": "2023-12-30T23:22:10.545539518Z",
     "start_time": "2023-12-30T23:22:10.544069682Z"
    }
   },
   "id": "954b009baad7861c",
   "execution_count": 5
  },
  {
   "cell_type": "code",
   "outputs": [
    {
     "name": "stdout",
     "output_type": "stream",
     "text": [
      "ID          0\n",
      "Title       0\n",
      "Genre       0\n",
      "Type        0\n",
      "Episodes    0\n",
      "dtype: int64\n",
      "ID          0\n",
      "Title       0\n",
      "Genre       0\n",
      "Type        0\n",
      "Episodes    0\n",
      "dtype: int64\n",
      "17562\n"
     ]
    }
   ],
   "source": [
    "print(data.isnull().sum())\n",
    "data = data.dropna()\n",
    "print(data.isnull().sum())\n",
    "print(len(data))"
   ],
   "metadata": {
    "collapsed": false,
    "ExecuteTime": {
     "end_time": "2023-12-30T23:22:10.728807494Z",
     "start_time": "2023-12-30T23:22:10.709897707Z"
    }
   },
   "id": "77d002d3f7cf9e4",
   "execution_count": 6
  },
  {
   "cell_type": "markdown",
   "source": [
    "### Data cleaning"
   ],
   "metadata": {
    "collapsed": false
   },
   "id": "87afc6a1d4bdbef7"
  },
  {
   "cell_type": "code",
   "outputs": [],
   "source": [
    "import re\n",
    "import string\n",
    "\n",
    "def clean(text):\n",
    "    text = str(text).lower()\n",
    "    text = re.sub('\\[.*?\\]', '', text)\n",
    "    text = re.sub('https?://\\S+|www\\.\\S+', '', text)\n",
    "    text = re.sub('<.*?>+', '', text)\n",
    "    text = re.sub('[%s]' % re.escape(string.punctuation), '', text)\n",
    "    text = re.sub('\\n', '', text)\n",
    "    text = re.sub('\\w*\\d\\w*', '', text)\n",
    "    return text\n",
    "\n",
    "data[\"cleaned_Title\"] = data[\"Title\"].apply(clean)\n",
    "data[\"cleaned_Genre\"] = data[\"Genre\"].apply(clean)\n",
    "data[\"cleaned_TitleGenre\"] = data[\"cleaned_Title\"] + \" \" + data[\"cleaned_Genre\"]"
   ],
   "metadata": {
    "collapsed": false,
    "ExecuteTime": {
     "end_time": "2023-12-30T23:22:11.562319301Z",
     "start_time": "2023-12-30T23:22:11.289028533Z"
    }
   },
   "id": "de91d15c6048c1ac",
   "execution_count": 7
  },
  {
   "cell_type": "code",
   "outputs": [
    {
     "data": {
      "text/plain": "   ID                            Title  \\\n0   1                     Cowboy Bebop   \n1   5  Cowboy Bebop: Tengoku no Tobira   \n2   6                           Trigun   \n3   7               Witch Hunter Robin   \n4   8                   Bouken Ou Beet   \n\n                                               Genre   Type Episodes  \\\n0    Action, Adventure, Comedy, Drama, Sci-Fi, Space     TV       26   \n1              Action, Drama, Mystery, Sci-Fi, Space  Movie        1   \n2  Action, Sci-Fi, Adventure, Comedy, Drama, Shounen     TV       26   \n3  Action, Mystery, Police, Supernatural, Drama, ...     TV       26   \n4          Adventure, Fantasy, Shounen, Supernatural     TV       52   \n\n                    cleaned_Title  \\\n0                    cowboy bebop   \n1  cowboy bebop tengoku no tobira   \n2                          trigun   \n3              witch hunter robin   \n4                  bouken ou beet   \n\n                                    cleaned_Genre  \\\n0       action adventure comedy drama scifi space   \n1                action drama mystery scifi space   \n2     action scifi adventure comedy drama shounen   \n3  action mystery police supernatural drama magic   \n4          adventure fantasy shounen supernatural   \n\n                                  cleaned_TitleGenre  \n0  cowboy bebop action adventure comedy drama sci...  \n1  cowboy bebop tengoku no tobira action drama my...  \n2  trigun action scifi adventure comedy drama sho...  \n3  witch hunter robin action mystery police super...  \n4  bouken ou beet adventure fantasy shounen super...  ",
      "text/html": "<div>\n<style scoped>\n    .dataframe tbody tr th:only-of-type {\n        vertical-align: middle;\n    }\n\n    .dataframe tbody tr th {\n        vertical-align: top;\n    }\n\n    .dataframe thead th {\n        text-align: right;\n    }\n</style>\n<table border=\"1\" class=\"dataframe\">\n  <thead>\n    <tr style=\"text-align: right;\">\n      <th></th>\n      <th>ID</th>\n      <th>Title</th>\n      <th>Genre</th>\n      <th>Type</th>\n      <th>Episodes</th>\n      <th>cleaned_Title</th>\n      <th>cleaned_Genre</th>\n      <th>cleaned_TitleGenre</th>\n    </tr>\n  </thead>\n  <tbody>\n    <tr>\n      <th>0</th>\n      <td>1</td>\n      <td>Cowboy Bebop</td>\n      <td>Action, Adventure, Comedy, Drama, Sci-Fi, Space</td>\n      <td>TV</td>\n      <td>26</td>\n      <td>cowboy bebop</td>\n      <td>action adventure comedy drama scifi space</td>\n      <td>cowboy bebop action adventure comedy drama sci...</td>\n    </tr>\n    <tr>\n      <th>1</th>\n      <td>5</td>\n      <td>Cowboy Bebop: Tengoku no Tobira</td>\n      <td>Action, Drama, Mystery, Sci-Fi, Space</td>\n      <td>Movie</td>\n      <td>1</td>\n      <td>cowboy bebop tengoku no tobira</td>\n      <td>action drama mystery scifi space</td>\n      <td>cowboy bebop tengoku no tobira action drama my...</td>\n    </tr>\n    <tr>\n      <th>2</th>\n      <td>6</td>\n      <td>Trigun</td>\n      <td>Action, Sci-Fi, Adventure, Comedy, Drama, Shounen</td>\n      <td>TV</td>\n      <td>26</td>\n      <td>trigun</td>\n      <td>action scifi adventure comedy drama shounen</td>\n      <td>trigun action scifi adventure comedy drama sho...</td>\n    </tr>\n    <tr>\n      <th>3</th>\n      <td>7</td>\n      <td>Witch Hunter Robin</td>\n      <td>Action, Mystery, Police, Supernatural, Drama, ...</td>\n      <td>TV</td>\n      <td>26</td>\n      <td>witch hunter robin</td>\n      <td>action mystery police supernatural drama magic</td>\n      <td>witch hunter robin action mystery police super...</td>\n    </tr>\n    <tr>\n      <th>4</th>\n      <td>8</td>\n      <td>Bouken Ou Beet</td>\n      <td>Adventure, Fantasy, Shounen, Supernatural</td>\n      <td>TV</td>\n      <td>52</td>\n      <td>bouken ou beet</td>\n      <td>adventure fantasy shounen supernatural</td>\n      <td>bouken ou beet adventure fantasy shounen super...</td>\n    </tr>\n  </tbody>\n</table>\n</div>"
     },
     "execution_count": 8,
     "metadata": {},
     "output_type": "execute_result"
    }
   ],
   "source": [
    "data.head()"
   ],
   "metadata": {
    "collapsed": false,
    "ExecuteTime": {
     "end_time": "2023-12-30T23:22:12.116490964Z",
     "start_time": "2023-12-30T23:22:12.112664827Z"
    }
   },
   "id": "825f8c8b24d77168",
   "execution_count": 8
  },
  {
   "cell_type": "code",
   "outputs": [],
   "source": [
    "#indices = pd.Series(data.index,index=data['cleaned_TitleGenre']).drop_duplicates()"
   ],
   "metadata": {
    "collapsed": false,
    "ExecuteTime": {
     "end_time": "2023-12-30T23:22:12.495726848Z",
     "start_time": "2023-12-30T23:22:12.490825622Z"
    }
   },
   "id": "817f0a45a3e7c62d",
   "execution_count": 9
  },
  {
   "cell_type": "code",
   "outputs": [],
   "source": [
    "#indices"
   ],
   "metadata": {
    "collapsed": false,
    "ExecuteTime": {
     "end_time": "2023-12-30T23:22:12.881776823Z",
     "start_time": "2023-12-30T23:22:12.874508500Z"
    }
   },
   "id": "a3b5317ea8682577",
   "execution_count": 10
  },
  {
   "cell_type": "code",
   "outputs": [],
   "source": [
    "from sentence_transformers import SentenceTransformer\n",
    "from sklearn.metrics.pairwise import cosine_similarity\n",
    "\n",
    "#Load the SBERT model\n",
    "sbert_model = SentenceTransformer('all-MiniLM-L6-v2')"
   ],
   "metadata": {
    "collapsed": false,
    "ExecuteTime": {
     "end_time": "2023-12-30T23:22:14.095700742Z",
     "start_time": "2023-12-30T23:22:13.258414911Z"
    }
   },
   "id": "677eae33808bc046",
   "execution_count": 11
  },
  {
   "cell_type": "code",
   "outputs": [],
   "source": [
    "#Create the sentence embeddings for the Nice classifications\n",
    "sentence_embeddings = sbert_model.encode(data[\"cleaned_TitleGenre\"])"
   ],
   "metadata": {
    "collapsed": false,
    "ExecuteTime": {
     "end_time": "2023-12-30T23:22:52.441752616Z",
     "start_time": "2023-12-30T23:22:14.093813691Z"
    }
   },
   "id": "64753dfcabb5829c",
   "execution_count": 12
  },
  {
   "cell_type": "code",
   "outputs": [
    {
     "data": {
      "text/plain": "array([[-0.06439349, -0.05691916,  0.00203442, ..., -0.03982692,\n         0.00280895, -0.05453705],\n       [-0.10773472, -0.01723839, -0.01103228, ..., -0.04913368,\n        -0.03100055, -0.04195781],\n       [-0.08343405, -0.00814126, -0.05074589, ..., -0.04679877,\n        -0.02803142,  0.06145451],\n       [-0.01730554, -0.02679987, -0.06414767, ..., -0.05192742,\n        -0.00642172,  0.02770149],\n       [-0.02698451,  0.02438733,  0.02073102, ..., -0.02894992,\n        -0.07004624,  0.00393724]], dtype=float32)"
     },
     "execution_count": 13,
     "metadata": {},
     "output_type": "execute_result"
    }
   ],
   "source": [
    "sentence_embeddings[:5]"
   ],
   "metadata": {
    "collapsed": false,
    "ExecuteTime": {
     "end_time": "2023-12-30T23:22:52.486953024Z",
     "start_time": "2023-12-30T23:22:52.484178536Z"
    }
   },
   "id": "89d85ac03e7f815a",
   "execution_count": 13
  },
  {
   "cell_type": "code",
   "outputs": [],
   "source": [
    "#Define the Cosine Similarity function\n",
    "def cosine(u, v):\n",
    "    return np.dot(u, v) / (np.linalg.norm(u) * np.linalg.norm(v))"
   ],
   "metadata": {
    "collapsed": false,
    "ExecuteTime": {
     "end_time": "2023-12-30T23:22:52.487837845Z",
     "start_time": "2023-12-30T23:22:52.484436233Z"
    }
   },
   "id": "64a90bb024eb1fd1",
   "execution_count": 14
  },
  {
   "cell_type": "code",
   "outputs": [],
   "source": [
    "query = 'naruto shipuden'\n",
    "query_vec = sbert_model.encode([query])[0]"
   ],
   "metadata": {
    "collapsed": false,
    "ExecuteTime": {
     "end_time": "2023-12-30T23:22:52.489881757Z",
     "start_time": "2023-12-30T23:22:52.484561330Z"
    }
   },
   "id": "60f5b86d0ea2267",
   "execution_count": 15
  },
  {
   "cell_type": "code",
   "outputs": [],
   "source": [
    "#Calculate the similarity of the anime description\n",
    "ncl_sim = []\n",
    "for ncl in sentence_embeddings:\n",
    "    ncl_sim.append(cosine(query_vec, ncl))"
   ],
   "metadata": {
    "collapsed": false,
    "ExecuteTime": {
     "end_time": "2023-12-30T23:22:52.577192798Z",
     "start_time": "2023-12-30T23:22:52.491611972Z"
    }
   },
   "id": "644133123e61c810",
   "execution_count": 16
  },
  {
   "cell_type": "code",
   "outputs": [],
   "source": [
    "data['similarity'] = ncl_sim"
   ],
   "metadata": {
    "collapsed": false,
    "ExecuteTime": {
     "end_time": "2023-12-30T23:22:52.584492940Z",
     "start_time": "2023-12-30T23:22:52.579296581Z"
    }
   },
   "id": "c29e4244ca218465",
   "execution_count": 17
  },
  {
   "cell_type": "code",
   "outputs": [
    {
     "data": {
      "text/plain": "          ID                                              Title  \\\n2267    2472                         Naruto: Shippuuden Movie 1   \n3516    4134  Naruto: Shippuuden - Shippuu! \"Konoha Gakuen\" Den   \n8088   19511             Naruto: Shippuuden - Sunny Side Battle   \n1574    1735                                 Naruto: Shippuuden   \n4553    6325  Naruto: Shippuuden Movie 3 - Hi no Ishi wo Tsu...   \n7021   13667         Naruto: Shippuuden Movie 6 - Road to Ninja   \n6285   10589          Naruto: Shippuuden Movie 5 - Blood Prison   \n3639    4437                Naruto: Shippuuden Movie 2 - Kizuna   \n4985    7367                            Naruto: The Cross Roads   \n5304    8246        Naruto: Shippuuden Movie 4 - The Lost Tower   \n6055   10075                                        Naruto x UT   \n11340  32365  Boruto: Naruto the Movie - Naruto ga Hokage ni...   \n10        20                                             Naruto   \n7549   16870                         The Last: Naruto the Movie   \n9862   28755                           Boruto: Naruto the Movie   \n1963    2144  Naruto Movie 3: Dai Koufun! Mikazuki Jima no A...   \n848      936  Naruto Movie 2: Dai Gekitotsu! Maboroshi no Ch...   \n6309   10659  Naruto Soyokazeden Movie: Naruto to Mashin to ...   \n975     1074  Naruto Narutimate Hero 3: Tsuini Gekitotsu! Jo...   \n414      442  Naruto Movie 1: Dai Katsugeki!! Yuki Hime Shin...   \n\n                                                   Genre     Type Episodes  \\\n2267         Action, Adventure, Comedy, Fantasy, Shounen    Movie        1   \n3516                                              Comedy  Special        1   \n8088   Action, Comedy, Super Power, Martial Arts, Sho...  Special        1   \n1574   Action, Adventure, Comedy, Super Power, Martia...       TV      500   \n4553   Action, Comedy, Martial Arts, Shounen, Super P...    Movie        1   \n7021   Action, Adventure, Super Power, Martial Arts, ...    Movie        1   \n6285   Action, Adventure, Martial Arts, Super Power, ...    Movie        1   \n3639         Action, Martial Arts, Shounen, Supernatural    Movie        1   \n4985                  Action, Adventure, Comedy, Shounen  Special        1   \n5304   Action, Comedy, Martial Arts, Shounen, Super P...    Movie        1   \n6055   Action, Comedy, Super Power, Martial Arts, Sho...      OVA        1   \n11340  Action, Comedy, Super Power, Martial Arts, Sho...  Special        1   \n10     Action, Adventure, Comedy, Super Power, Martia...       TV      220   \n7549   Action, Super Power, Romance, Martial Arts, Sh...    Movie        1   \n9862   Action, Comedy, Martial Arts, Shounen, Super P...    Movie        1   \n1963                                   Action, Adventure    Movie        1   \n848    Adventure, Comedy, Drama, Fantasy, Shounen, Su...    Movie        1   \n6309   Action, Comedy, Martial Arts, Shounen, Super P...    Movie        1   \n975                     Game, Adventure, Comedy, Shounen      OVA        1   \n414    Adventure, Comedy, Historical, Supernatural, D...    Movie        1   \n\n                                           cleaned_Title  \\\n2267                            naruto shippuuden movie    \n3516        naruto shippuuden  shippuu konoha gakuen den   \n8088                naruto shippuuden  sunny side battle   \n1574                                   naruto shippuuden   \n4553   naruto shippuuden movie   hi no ishi wo tsugu ...   \n7021             naruto shippuuden movie   road to ninja   \n6285              naruto shippuuden movie   blood prison   \n3639                    naruto shippuuden movie   kizuna   \n4985                              naruto the cross roads   \n5304            naruto shippuuden movie   the lost tower   \n6055                                         naruto x ut   \n11340  boruto naruto the movie  naruto ga hokage ni n...   \n10                                                naruto   \n7549                           the last naruto the movie   \n9862                             boruto naruto the movie   \n1963   naruto movie  dai koufun mikazuki jima no anim...   \n848    naruto movie  dai gekitotsu maboroshi no chite...   \n6309   naruto soyokazeden movie naruto to mashin to m...   \n975    naruto narutimate hero  tsuini gekitotsu jouni...   \n414    naruto movie  dai katsugeki yuki hime shinobu ...   \n\n                                           cleaned_Genre  \\\n2267             action adventure comedy fantasy shounen   \n3516                                              comedy   \n8088      action comedy super power martial arts shounen   \n1574   action adventure comedy super power martial ar...   \n4553      action comedy martial arts shounen super power   \n7021   action adventure super power martial arts shounen   \n6285   action adventure martial arts super power myst...   \n3639            action martial arts shounen supernatural   \n4985                     action adventure comedy shounen   \n5304      action comedy martial arts shounen super power   \n6055      action comedy super power martial arts shounen   \n11340     action comedy super power martial arts shounen   \n10     action adventure comedy super power martial ar...   \n7549     action super power romance martial arts shounen   \n9862      action comedy martial arts shounen super power   \n1963                                    action adventure   \n848    adventure comedy drama fantasy shounen superna...   \n6309      action comedy martial arts shounen super power   \n975                        game adventure comedy shounen   \n414    adventure comedy historical supernatural drama...   \n\n                                      cleaned_TitleGenre  similarity  \n2267   naruto shippuuden movie  action adventure come...    0.753687  \n3516   naruto shippuuden  shippuu konoha gakuen den c...    0.722772  \n8088   naruto shippuuden  sunny side battle action co...    0.704871  \n1574   naruto shippuuden action adventure comedy supe...    0.701417  \n4553   naruto shippuuden movie   hi no ishi wo tsugu ...    0.697634  \n7021   naruto shippuuden movie   road to ninja action...    0.671199  \n6285   naruto shippuuden movie   blood prison action ...    0.665568  \n3639   naruto shippuuden movie   kizuna action martia...    0.662636  \n4985   naruto the cross roads action adventure comedy...    0.652488  \n5304   naruto shippuuden movie   the lost tower actio...    0.639731  \n6055   naruto x ut action comedy super power martial ...    0.623807  \n11340  boruto naruto the movie  naruto ga hokage ni n...    0.617382  \n10     naruto action adventure comedy super power mar...    0.615022  \n7549   the last naruto the movie action super power r...    0.611894  \n9862   boruto naruto the movie action comedy martial ...    0.611045  \n1963   naruto movie  dai koufun mikazuki jima no anim...    0.592315  \n848    naruto movie  dai gekitotsu maboroshi no chite...    0.580248  \n6309   naruto soyokazeden movie naruto to mashin to m...    0.578712  \n975    naruto narutimate hero  tsuini gekitotsu jouni...    0.571777  \n414    naruto movie  dai katsugeki yuki hime shinobu ...    0.571661  ",
      "text/html": "<div>\n<style scoped>\n    .dataframe tbody tr th:only-of-type {\n        vertical-align: middle;\n    }\n\n    .dataframe tbody tr th {\n        vertical-align: top;\n    }\n\n    .dataframe thead th {\n        text-align: right;\n    }\n</style>\n<table border=\"1\" class=\"dataframe\">\n  <thead>\n    <tr style=\"text-align: right;\">\n      <th></th>\n      <th>ID</th>\n      <th>Title</th>\n      <th>Genre</th>\n      <th>Type</th>\n      <th>Episodes</th>\n      <th>cleaned_Title</th>\n      <th>cleaned_Genre</th>\n      <th>cleaned_TitleGenre</th>\n      <th>similarity</th>\n    </tr>\n  </thead>\n  <tbody>\n    <tr>\n      <th>2267</th>\n      <td>2472</td>\n      <td>Naruto: Shippuuden Movie 1</td>\n      <td>Action, Adventure, Comedy, Fantasy, Shounen</td>\n      <td>Movie</td>\n      <td>1</td>\n      <td>naruto shippuuden movie</td>\n      <td>action adventure comedy fantasy shounen</td>\n      <td>naruto shippuuden movie  action adventure come...</td>\n      <td>0.753687</td>\n    </tr>\n    <tr>\n      <th>3516</th>\n      <td>4134</td>\n      <td>Naruto: Shippuuden - Shippuu! \"Konoha Gakuen\" Den</td>\n      <td>Comedy</td>\n      <td>Special</td>\n      <td>1</td>\n      <td>naruto shippuuden  shippuu konoha gakuen den</td>\n      <td>comedy</td>\n      <td>naruto shippuuden  shippuu konoha gakuen den c...</td>\n      <td>0.722772</td>\n    </tr>\n    <tr>\n      <th>8088</th>\n      <td>19511</td>\n      <td>Naruto: Shippuuden - Sunny Side Battle</td>\n      <td>Action, Comedy, Super Power, Martial Arts, Sho...</td>\n      <td>Special</td>\n      <td>1</td>\n      <td>naruto shippuuden  sunny side battle</td>\n      <td>action comedy super power martial arts shounen</td>\n      <td>naruto shippuuden  sunny side battle action co...</td>\n      <td>0.704871</td>\n    </tr>\n    <tr>\n      <th>1574</th>\n      <td>1735</td>\n      <td>Naruto: Shippuuden</td>\n      <td>Action, Adventure, Comedy, Super Power, Martia...</td>\n      <td>TV</td>\n      <td>500</td>\n      <td>naruto shippuuden</td>\n      <td>action adventure comedy super power martial ar...</td>\n      <td>naruto shippuuden action adventure comedy supe...</td>\n      <td>0.701417</td>\n    </tr>\n    <tr>\n      <th>4553</th>\n      <td>6325</td>\n      <td>Naruto: Shippuuden Movie 3 - Hi no Ishi wo Tsu...</td>\n      <td>Action, Comedy, Martial Arts, Shounen, Super P...</td>\n      <td>Movie</td>\n      <td>1</td>\n      <td>naruto shippuuden movie   hi no ishi wo tsugu ...</td>\n      <td>action comedy martial arts shounen super power</td>\n      <td>naruto shippuuden movie   hi no ishi wo tsugu ...</td>\n      <td>0.697634</td>\n    </tr>\n    <tr>\n      <th>7021</th>\n      <td>13667</td>\n      <td>Naruto: Shippuuden Movie 6 - Road to Ninja</td>\n      <td>Action, Adventure, Super Power, Martial Arts, ...</td>\n      <td>Movie</td>\n      <td>1</td>\n      <td>naruto shippuuden movie   road to ninja</td>\n      <td>action adventure super power martial arts shounen</td>\n      <td>naruto shippuuden movie   road to ninja action...</td>\n      <td>0.671199</td>\n    </tr>\n    <tr>\n      <th>6285</th>\n      <td>10589</td>\n      <td>Naruto: Shippuuden Movie 5 - Blood Prison</td>\n      <td>Action, Adventure, Martial Arts, Super Power, ...</td>\n      <td>Movie</td>\n      <td>1</td>\n      <td>naruto shippuuden movie   blood prison</td>\n      <td>action adventure martial arts super power myst...</td>\n      <td>naruto shippuuden movie   blood prison action ...</td>\n      <td>0.665568</td>\n    </tr>\n    <tr>\n      <th>3639</th>\n      <td>4437</td>\n      <td>Naruto: Shippuuden Movie 2 - Kizuna</td>\n      <td>Action, Martial Arts, Shounen, Supernatural</td>\n      <td>Movie</td>\n      <td>1</td>\n      <td>naruto shippuuden movie   kizuna</td>\n      <td>action martial arts shounen supernatural</td>\n      <td>naruto shippuuden movie   kizuna action martia...</td>\n      <td>0.662636</td>\n    </tr>\n    <tr>\n      <th>4985</th>\n      <td>7367</td>\n      <td>Naruto: The Cross Roads</td>\n      <td>Action, Adventure, Comedy, Shounen</td>\n      <td>Special</td>\n      <td>1</td>\n      <td>naruto the cross roads</td>\n      <td>action adventure comedy shounen</td>\n      <td>naruto the cross roads action adventure comedy...</td>\n      <td>0.652488</td>\n    </tr>\n    <tr>\n      <th>5304</th>\n      <td>8246</td>\n      <td>Naruto: Shippuuden Movie 4 - The Lost Tower</td>\n      <td>Action, Comedy, Martial Arts, Shounen, Super P...</td>\n      <td>Movie</td>\n      <td>1</td>\n      <td>naruto shippuuden movie   the lost tower</td>\n      <td>action comedy martial arts shounen super power</td>\n      <td>naruto shippuuden movie   the lost tower actio...</td>\n      <td>0.639731</td>\n    </tr>\n    <tr>\n      <th>6055</th>\n      <td>10075</td>\n      <td>Naruto x UT</td>\n      <td>Action, Comedy, Super Power, Martial Arts, Sho...</td>\n      <td>OVA</td>\n      <td>1</td>\n      <td>naruto x ut</td>\n      <td>action comedy super power martial arts shounen</td>\n      <td>naruto x ut action comedy super power martial ...</td>\n      <td>0.623807</td>\n    </tr>\n    <tr>\n      <th>11340</th>\n      <td>32365</td>\n      <td>Boruto: Naruto the Movie - Naruto ga Hokage ni...</td>\n      <td>Action, Comedy, Super Power, Martial Arts, Sho...</td>\n      <td>Special</td>\n      <td>1</td>\n      <td>boruto naruto the movie  naruto ga hokage ni n...</td>\n      <td>action comedy super power martial arts shounen</td>\n      <td>boruto naruto the movie  naruto ga hokage ni n...</td>\n      <td>0.617382</td>\n    </tr>\n    <tr>\n      <th>10</th>\n      <td>20</td>\n      <td>Naruto</td>\n      <td>Action, Adventure, Comedy, Super Power, Martia...</td>\n      <td>TV</td>\n      <td>220</td>\n      <td>naruto</td>\n      <td>action adventure comedy super power martial ar...</td>\n      <td>naruto action adventure comedy super power mar...</td>\n      <td>0.615022</td>\n    </tr>\n    <tr>\n      <th>7549</th>\n      <td>16870</td>\n      <td>The Last: Naruto the Movie</td>\n      <td>Action, Super Power, Romance, Martial Arts, Sh...</td>\n      <td>Movie</td>\n      <td>1</td>\n      <td>the last naruto the movie</td>\n      <td>action super power romance martial arts shounen</td>\n      <td>the last naruto the movie action super power r...</td>\n      <td>0.611894</td>\n    </tr>\n    <tr>\n      <th>9862</th>\n      <td>28755</td>\n      <td>Boruto: Naruto the Movie</td>\n      <td>Action, Comedy, Martial Arts, Shounen, Super P...</td>\n      <td>Movie</td>\n      <td>1</td>\n      <td>boruto naruto the movie</td>\n      <td>action comedy martial arts shounen super power</td>\n      <td>boruto naruto the movie action comedy martial ...</td>\n      <td>0.611045</td>\n    </tr>\n    <tr>\n      <th>1963</th>\n      <td>2144</td>\n      <td>Naruto Movie 3: Dai Koufun! Mikazuki Jima no A...</td>\n      <td>Action, Adventure</td>\n      <td>Movie</td>\n      <td>1</td>\n      <td>naruto movie  dai koufun mikazuki jima no anim...</td>\n      <td>action adventure</td>\n      <td>naruto movie  dai koufun mikazuki jima no anim...</td>\n      <td>0.592315</td>\n    </tr>\n    <tr>\n      <th>848</th>\n      <td>936</td>\n      <td>Naruto Movie 2: Dai Gekitotsu! Maboroshi no Ch...</td>\n      <td>Adventure, Comedy, Drama, Fantasy, Shounen, Su...</td>\n      <td>Movie</td>\n      <td>1</td>\n      <td>naruto movie  dai gekitotsu maboroshi no chite...</td>\n      <td>adventure comedy drama fantasy shounen superna...</td>\n      <td>naruto movie  dai gekitotsu maboroshi no chite...</td>\n      <td>0.580248</td>\n    </tr>\n    <tr>\n      <th>6309</th>\n      <td>10659</td>\n      <td>Naruto Soyokazeden Movie: Naruto to Mashin to ...</td>\n      <td>Action, Comedy, Martial Arts, Shounen, Super P...</td>\n      <td>Movie</td>\n      <td>1</td>\n      <td>naruto soyokazeden movie naruto to mashin to m...</td>\n      <td>action comedy martial arts shounen super power</td>\n      <td>naruto soyokazeden movie naruto to mashin to m...</td>\n      <td>0.578712</td>\n    </tr>\n    <tr>\n      <th>975</th>\n      <td>1074</td>\n      <td>Naruto Narutimate Hero 3: Tsuini Gekitotsu! Jo...</td>\n      <td>Game, Adventure, Comedy, Shounen</td>\n      <td>OVA</td>\n      <td>1</td>\n      <td>naruto narutimate hero  tsuini gekitotsu jouni...</td>\n      <td>game adventure comedy shounen</td>\n      <td>naruto narutimate hero  tsuini gekitotsu jouni...</td>\n      <td>0.571777</td>\n    </tr>\n    <tr>\n      <th>414</th>\n      <td>442</td>\n      <td>Naruto Movie 1: Dai Katsugeki!! Yuki Hime Shin...</td>\n      <td>Adventure, Comedy, Historical, Supernatural, D...</td>\n      <td>Movie</td>\n      <td>1</td>\n      <td>naruto movie  dai katsugeki yuki hime shinobu ...</td>\n      <td>adventure comedy historical supernatural drama...</td>\n      <td>naruto movie  dai katsugeki yuki hime shinobu ...</td>\n      <td>0.571661</td>\n    </tr>\n  </tbody>\n</table>\n</div>"
     },
     "execution_count": 18,
     "metadata": {},
     "output_type": "execute_result"
    }
   ],
   "source": [
    "#Display the top 20 matches\n",
    "#data.sort_values(by=['similarity'], ascending=False).head(20).style.set_properties(subset=['cleaned_TitleGenre'], **{'width-min': '50px'})\n",
    "data.sort_values(by=['similarity'], ascending=False).head(20)"
   ],
   "metadata": {
    "collapsed": false,
    "ExecuteTime": {
     "end_time": "2023-12-30T23:22:52.637651237Z",
     "start_time": "2023-12-30T23:22:52.583333991Z"
    }
   },
   "id": "33607d951aa99fa8",
   "execution_count": 18
  },
  {
   "cell_type": "code",
   "outputs": [],
   "source": [],
   "metadata": {
    "collapsed": false
   },
   "id": "4d0640a2160391d"
  }
 ],
 "metadata": {
  "kernelspec": {
   "display_name": "Python 3",
   "language": "python",
   "name": "python3"
  },
  "language_info": {
   "codemirror_mode": {
    "name": "ipython",
    "version": 2
   },
   "file_extension": ".py",
   "mimetype": "text/x-python",
   "name": "python",
   "nbconvert_exporter": "python",
   "pygments_lexer": "ipython2",
   "version": "2.7.6"
  }
 },
 "nbformat": 4,
 "nbformat_minor": 5
}
