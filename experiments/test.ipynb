{
 "cells": [
  {
   "cell_type": "markdown",
   "source": [
    "# Content base recommender system with Bert Embedding"
   ],
   "metadata": {
    "collapsed": false
   },
   "id": "680be53f5362b007"
  },
  {
   "cell_type": "markdown",
   "source": [
    "## **Set up**"
   ],
   "metadata": {
    "collapsed": false
   },
   "id": "d039de3c41ec835b"
  },
  {
   "cell_type": "code",
   "outputs": [],
   "source": [
    "import numpy as np\n",
    "import pandas as pd"
   ],
   "metadata": {
    "collapsed": false,
    "ExecuteTime": {
     "end_time": "2023-12-31T00:21:20.497450646Z",
     "start_time": "2023-12-31T00:21:19.647212776Z"
    }
   },
   "id": "937da287e226c1a1",
   "execution_count": 1
  },
  {
   "cell_type": "markdown",
   "source": [
    "###  Bert"
   ],
   "metadata": {
    "collapsed": false
   },
   "id": "6967c4be99e322af"
  },
  {
   "cell_type": "code",
   "outputs": [],
   "source": [
    "from transformers import BertTokenizer, BertModel\n",
    "tokenizer = BertTokenizer.from_pretrained('bert-base-uncased')\n",
    "model = BertModel.from_pretrained(\"bert-base-uncased\")\n",
    "text = \"Replace me by any text you'd like.\"\n",
    "encoded_input = tokenizer(text, return_tensors='pt')\n",
    "output = model(**encoded_input)"
   ],
   "metadata": {
    "collapsed": false,
    "ExecuteTime": {
     "end_time": "2023-12-31T00:15:04.716494283Z",
     "start_time": "2023-12-31T00:15:01.734703954Z"
    }
   },
   "id": "55035de9d3ee2bf5",
   "execution_count": 2
  },
  {
   "cell_type": "code",
   "outputs": [],
   "source": [],
   "metadata": {
    "collapsed": false
   },
   "id": "d323b36d8e7974f"
  }
 ],
 "metadata": {
  "kernelspec": {
   "display_name": "Python 3",
   "language": "python",
   "name": "python3"
  },
  "language_info": {
   "codemirror_mode": {
    "name": "ipython",
    "version": 2
   },
   "file_extension": ".py",
   "mimetype": "text/x-python",
   "name": "python",
   "nbconvert_exporter": "python",
   "pygments_lexer": "ipython2",
   "version": "2.7.6"
  }
 },
 "nbformat": 4,
 "nbformat_minor": 5
}
